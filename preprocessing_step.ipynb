{
  "nbformat": 4,
  "nbformat_minor": 5,
  "metadata": {
    "accelerator": "GPU",
    "colab": {
      "name": "2_preprocessing.ipynb",
      "provenance": []
    },
    "kernelspec": {
      "display_name": "Python 3",
      "language": "python",
      "name": "python3"
    },
    "language_info": {
      "codemirror_mode": {
        "name": "ipython",
        "version": 3
      },
      "file_extension": ".py",
      "mimetype": "text/x-python",
      "name": "python",
      "nbconvert_exporter": "python",
      "pygments_lexer": "ipython3",
      "version": "3.8.10"
    }
  },
  "cells": [
    {
      "cell_type": "code",
      "metadata": {
        "id": "ea5ccfc2"
      },
      "source": [
        "import warnings\n",
        "\n",
        "warnings.filterwarnings(\"ignore\")\n",
        "# Libraries to help with reading and manipulating data\n",
        "import pandas as pd\n",
        "import numpy as np\n",
        "\n",
        "# libaries to help with data visualization\n",
        "import matplotlib.pyplot as plt\n",
        "import seaborn as sns\n",
        "\n",
        "# Libraries to tune model, get different metric scores, and split data.\n",
        "from sklearn import metrics\n",
        "from sklearn.model_selection import train_test_split, StratifiedKFold, cross_val_score\n",
        "from sklearn.preprocessing import StandardScaler\n",
        "from sklearn.model_selection import GridSearchCV, RandomizedSearchCV\n",
        "\n",
        "#libraries to help with model building\n",
        "from sklearn.ensemble import (\n",
        "    AdaBoostRegressor,\n",
        "    GradientBoostingRegressor,\n",
        "    RandomForestRegressor,\n",
        "    BaggingRegressor)\n",
        "from xgboost import XGBRegressor\n",
        "from sklearn.tree import DecisionTreeRegressor\n",
        "from collections import Counter\n",
        "from wordcloud import WordCloud, STOPWORDS"
      ],
      "id": "ea5ccfc2",
      "execution_count": 1,
      "outputs": []
    },
    {
      "cell_type": "markdown",
      "metadata": {
        "id": "c3f7ac1f"
      },
      "source": [
        "## Data Loading"
      ],
      "id": "c3f7ac1f"
    },
    {
      "cell_type": "code",
      "metadata": {
        "colab": {
          "base_uri": "https://localhost:8080/"
        },
        "id": "N3lHdEzTi0GO",
        "outputId": "5742dd54-0fe6-4559-8043-da6ad8042a4f"
      },
      "source": [
        "from google.colab import drive\n",
        "drive.mount('/content/gdrive')"
      ],
      "id": "N3lHdEzTi0GO",
      "execution_count": 2,
      "outputs": [
        {
          "output_type": "stream",
          "text": [
            "Drive already mounted at /content/gdrive; to attempt to forcibly remount, call drive.mount(\"/content/gdrive\", force_remount=True).\n"
          ],
          "name": "stdout"
        }
      ]
    },
    {
      "cell_type": "code",
      "metadata": {
        "colab": {
          "base_uri": "https://localhost:8080/"
        },
        "id": "fUCJkCnqj1zE",
        "outputId": "baf28579-84af-4f99-be34-f9aa11ea7e68"
      },
      "source": [
        "!pip3 install pickle5\n",
        "import pickle5 as pickle"
      ],
      "id": "fUCJkCnqj1zE",
      "execution_count": 3,
      "outputs": [
        {
          "output_type": "stream",
          "text": [
            "Collecting pickle5\n",
            "\u001b[?25l  Downloading https://files.pythonhosted.org/packages/f7/4c/5c4dd0462c8d3a6bc4af500a6af240763c2ebd1efdc736fc2c946d44b70a/pickle5-0.0.11.tar.gz (132kB)\n",
            "\r\u001b[K     |██▌                             | 10kB 22.0MB/s eta 0:00:01\r\u001b[K     |█████                           | 20kB 27.2MB/s eta 0:00:01\r\u001b[K     |███████▍                        | 30kB 31.7MB/s eta 0:00:01\r\u001b[K     |██████████                      | 40kB 35.5MB/s eta 0:00:01\r\u001b[K     |████████████▍                   | 51kB 33.9MB/s eta 0:00:01\r\u001b[K     |██████████████▉                 | 61kB 31.9MB/s eta 0:00:01\r\u001b[K     |█████████████████▍              | 71kB 31.7MB/s eta 0:00:01\r\u001b[K     |███████████████████▉            | 81kB 31.4MB/s eta 0:00:01\r\u001b[K     |██████████████████████▎         | 92kB 31.8MB/s eta 0:00:01\r\u001b[K     |████████████████████████▉       | 102kB 33.2MB/s eta 0:00:01\r\u001b[K     |███████████████████████████▎    | 112kB 33.2MB/s eta 0:00:01\r\u001b[K     |█████████████████████████████▊  | 122kB 33.2MB/s eta 0:00:01\r\u001b[K     |████████████████████████████████| 133kB 33.2MB/s \n",
            "\u001b[?25hBuilding wheels for collected packages: pickle5\n",
            "  Building wheel for pickle5 (setup.py) ... \u001b[?25l\u001b[?25hdone\n",
            "  Created wheel for pickle5: filename=pickle5-0.0.11-cp37-cp37m-linux_x86_64.whl size=219278 sha256=8f78eb5c6590a91b1bdada16938f7bd6d95c7367a4342d9a46ad3338aa2e7a17\n",
            "  Stored in directory: /root/.cache/pip/wheels/a6/90/95/f889ca4aa8b0e0c7f21c8470b6f5d6032f0390a3a141a9a3bd\n",
            "Successfully built pickle5\n",
            "Installing collected packages: pickle5\n",
            "Successfully installed pickle5-0.0.11\n"
          ],
          "name": "stdout"
        }
      ]
    },
    {
      "cell_type": "code",
      "metadata": {
        "colab": {
          "base_uri": "https://localhost:8080/",
          "height": 343
        },
        "id": "dNt18e1UEt9A",
        "outputId": "cab364c2-1257-4f83-fd31-78604f348706"
      },
      "source": [
        "!pip install --upgrade pandas"
      ],
      "id": "dNt18e1UEt9A",
      "execution_count": 4,
      "outputs": [
        {
          "output_type": "stream",
          "text": [
            "Collecting pandas\n",
            "\u001b[?25l  Downloading https://files.pythonhosted.org/packages/99/f7/01cea7f6c963100f045876eb4aa1817069c5c9eca73d2dbfb5d31ff9a39f/pandas-1.3.0-cp37-cp37m-manylinux_2_5_x86_64.manylinux1_x86_64.whl (10.8MB)\n",
            "\u001b[K     |████████████████████████████████| 10.8MB 24.5MB/s \n",
            "\u001b[?25hRequirement already satisfied, skipping upgrade: numpy>=1.17.3 in /usr/local/lib/python3.7/dist-packages (from pandas) (1.19.5)\n",
            "Requirement already satisfied, skipping upgrade: pytz>=2017.3 in /usr/local/lib/python3.7/dist-packages (from pandas) (2018.9)\n",
            "Requirement already satisfied, skipping upgrade: python-dateutil>=2.7.3 in /usr/local/lib/python3.7/dist-packages (from pandas) (2.8.1)\n",
            "Requirement already satisfied, skipping upgrade: six>=1.5 in /usr/local/lib/python3.7/dist-packages (from python-dateutil>=2.7.3->pandas) (1.15.0)\n",
            "\u001b[31mERROR: google-colab 1.0.0 has requirement pandas~=1.1.0; python_version >= \"3.0\", but you'll have pandas 1.3.0 which is incompatible.\u001b[0m\n",
            "Installing collected packages: pandas\n",
            "  Found existing installation: pandas 1.1.5\n",
            "    Uninstalling pandas-1.1.5:\n",
            "      Successfully uninstalled pandas-1.1.5\n",
            "Successfully installed pandas-1.3.0\n"
          ],
          "name": "stdout"
        },
        {
          "output_type": "display_data",
          "data": {
            "application/vnd.colab-display-data+json": {
              "pip_warning": {
                "packages": [
                  "pandas"
                ]
              }
            }
          },
          "metadata": {
            "tags": []
          }
        }
      ]
    },
    {
      "cell_type": "code",
      "metadata": {
        "id": "3287126f"
      },
      "source": [
        "import pickle5 as pickle\n",
        "with open('/content/gdrive/MyDrive/test.pkl', \"rb\") as fh:\n",
        "  test_final = pickle.load(fh)"
      ],
      "id": "3287126f",
      "execution_count": 3,
      "outputs": []
    },
    {
      "cell_type": "code",
      "metadata": {
        "id": "wk9ZBxPBkQQV"
      },
      "source": [
        "import pickle5 as pickle\n",
        "with open('/content/gdrive/MyDrive/train.pkl', \"rb\") as f:\n",
        "  train = pickle.load(f)"
      ],
      "id": "wk9ZBxPBkQQV",
      "execution_count": 4,
      "outputs": []
    },
    {
      "cell_type": "code",
      "metadata": {
        "id": "75dc21f9",
        "colab": {
          "base_uri": "https://localhost:8080/",
          "height": 615
        },
        "outputId": "96d1222d-0ffe-4635-96aa-c793b070a7ae"
      },
      "source": [
        "train.head()"
      ],
      "id": "75dc21f9",
      "execution_count": 5,
      "outputs": [
        {
          "output_type": "execute_result",
          "data": {
            "text/html": [
              "<div>\n",
              "<style scoped>\n",
              "    .dataframe tbody tr th:only-of-type {\n",
              "        vertical-align: middle;\n",
              "    }\n",
              "\n",
              "    .dataframe tbody tr th {\n",
              "        vertical-align: top;\n",
              "    }\n",
              "\n",
              "    .dataframe thead th {\n",
              "        text-align: right;\n",
              "    }\n",
              "</style>\n",
              "<table border=\"1\" class=\"dataframe\">\n",
              "  <thead>\n",
              "    <tr style=\"text-align: right;\">\n",
              "      <th></th>\n",
              "      <th>train_id</th>\n",
              "      <th>name</th>\n",
              "      <th>item_condition_id</th>\n",
              "      <th>brand_name</th>\n",
              "      <th>price</th>\n",
              "      <th>shipping</th>\n",
              "      <th>item_description</th>\n",
              "      <th>main_category</th>\n",
              "      <th>sub_category</th>\n",
              "      <th>item_category</th>\n",
              "      <th>log_price</th>\n",
              "      <th>name_len</th>\n",
              "      <th>item_len</th>\n",
              "      <th>compound</th>\n",
              "      <th>negative</th>\n",
              "      <th>positive</th>\n",
              "      <th>neutral</th>\n",
              "      <th>text</th>\n",
              "    </tr>\n",
              "  </thead>\n",
              "  <tbody>\n",
              "    <tr>\n",
              "      <th>0</th>\n",
              "      <td>0</td>\n",
              "      <td>mlb cincinnati reds t shirt size xl</td>\n",
              "      <td>3</td>\n",
              "      <td>missing</td>\n",
              "      <td>10.0</td>\n",
              "      <td>1</td>\n",
              "      <td>no description yet</td>\n",
              "      <td>Men</td>\n",
              "      <td>Tops</td>\n",
              "      <td>T-shirts</td>\n",
              "      <td>2.397895</td>\n",
              "      <td>7</td>\n",
              "      <td>3</td>\n",
              "      <td>-0.2960</td>\n",
              "      <td>0.524</td>\n",
              "      <td>0.000</td>\n",
              "      <td>0.476</td>\n",
              "      <td>mlb cincinnati reds t shirt size xl no descrip...</td>\n",
              "    </tr>\n",
              "    <tr>\n",
              "      <th>1</th>\n",
              "      <td>1</td>\n",
              "      <td>razer blackwidow chroma keyboard</td>\n",
              "      <td>3</td>\n",
              "      <td>razer</td>\n",
              "      <td>52.0</td>\n",
              "      <td>0</td>\n",
              "      <td>this keyboard great condition works like came ...</td>\n",
              "      <td>Electronics</td>\n",
              "      <td>Computers &amp; Tablets</td>\n",
              "      <td>Components &amp; Parts</td>\n",
              "      <td>3.970292</td>\n",
              "      <td>4</td>\n",
              "      <td>21</td>\n",
              "      <td>0.8957</td>\n",
              "      <td>0.000</td>\n",
              "      <td>0.375</td>\n",
              "      <td>0.625</td>\n",
              "      <td>razer blackwidow chroma keyboard this keyboard...</td>\n",
              "    </tr>\n",
              "    <tr>\n",
              "      <th>2</th>\n",
              "      <td>2</td>\n",
              "      <td>ava viv blouse</td>\n",
              "      <td>1</td>\n",
              "      <td>target</td>\n",
              "      <td>10.0</td>\n",
              "      <td>1</td>\n",
              "      <td>adorable top hint lace key hole back the pale ...</td>\n",
              "      <td>Women</td>\n",
              "      <td>Tops &amp; Blouses</td>\n",
              "      <td>Blouse</td>\n",
              "      <td>2.397895</td>\n",
              "      <td>3</td>\n",
              "      <td>16</td>\n",
              "      <td>0.6124</td>\n",
              "      <td>0.000</td>\n",
              "      <td>0.278</td>\n",
              "      <td>0.722</td>\n",
              "      <td>ava viv blouse adorable top hint lace key hole...</td>\n",
              "    </tr>\n",
              "    <tr>\n",
              "      <th>3</th>\n",
              "      <td>3</td>\n",
              "      <td>leather horse statues</td>\n",
              "      <td>1</td>\n",
              "      <td>missing</td>\n",
              "      <td>35.0</td>\n",
              "      <td>1</td>\n",
              "      <td>new tags leather horses retail rm stand foot h...</td>\n",
              "      <td>Home</td>\n",
              "      <td>Home Décor</td>\n",
              "      <td>Home Décor Accents</td>\n",
              "      <td>3.583519</td>\n",
              "      <td>3</td>\n",
              "      <td>21</td>\n",
              "      <td>0.6808</td>\n",
              "      <td>0.000</td>\n",
              "      <td>0.228</td>\n",
              "      <td>0.772</td>\n",
              "      <td>leather horse statues new tags leather horses ...</td>\n",
              "    </tr>\n",
              "    <tr>\n",
              "      <th>4</th>\n",
              "      <td>4</td>\n",
              "      <td>24k gold plated rose</td>\n",
              "      <td>1</td>\n",
              "      <td>complete</td>\n",
              "      <td>44.0</td>\n",
              "      <td>0</td>\n",
              "      <td>complete certificate authenticity</td>\n",
              "      <td>Women</td>\n",
              "      <td>Jewelry</td>\n",
              "      <td>Necklaces</td>\n",
              "      <td>3.806662</td>\n",
              "      <td>4</td>\n",
              "      <td>3</td>\n",
              "      <td>0.0000</td>\n",
              "      <td>0.000</td>\n",
              "      <td>0.000</td>\n",
              "      <td>1.000</td>\n",
              "      <td>24k gold plated rose complete certificate auth...</td>\n",
              "    </tr>\n",
              "  </tbody>\n",
              "</table>\n",
              "</div>"
            ],
            "text/plain": [
              "   train_id  ...                                               text\n",
              "0         0  ...  mlb cincinnati reds t shirt size xl no descrip...\n",
              "1         1  ...  razer blackwidow chroma keyboard this keyboard...\n",
              "2         2  ...  ava viv blouse adorable top hint lace key hole...\n",
              "3         3  ...  leather horse statues new tags leather horses ...\n",
              "4         4  ...  24k gold plated rose complete certificate auth...\n",
              "\n",
              "[5 rows x 18 columns]"
            ]
          },
          "metadata": {
            "tags": []
          },
          "execution_count": 5
        }
      ]
    },
    {
      "cell_type": "code",
      "metadata": {
        "id": "52d53a28",
        "colab": {
          "base_uri": "https://localhost:8080/",
          "height": 581
        },
        "outputId": "5547be97-ed59-4e43-c392-a8c712a89eb9"
      },
      "source": [
        "test_final.head()"
      ],
      "id": "52d53a28",
      "execution_count": 6,
      "outputs": [
        {
          "output_type": "execute_result",
          "data": {
            "text/html": [
              "<div>\n",
              "<style scoped>\n",
              "    .dataframe tbody tr th:only-of-type {\n",
              "        vertical-align: middle;\n",
              "    }\n",
              "\n",
              "    .dataframe tbody tr th {\n",
              "        vertical-align: top;\n",
              "    }\n",
              "\n",
              "    .dataframe thead th {\n",
              "        text-align: right;\n",
              "    }\n",
              "</style>\n",
              "<table border=\"1\" class=\"dataframe\">\n",
              "  <thead>\n",
              "    <tr style=\"text-align: right;\">\n",
              "      <th></th>\n",
              "      <th>test_id</th>\n",
              "      <th>name</th>\n",
              "      <th>item_condition_id</th>\n",
              "      <th>brand_name</th>\n",
              "      <th>shipping</th>\n",
              "      <th>item_description</th>\n",
              "      <th>main_categoey</th>\n",
              "      <th>sub_category</th>\n",
              "      <th>item_category</th>\n",
              "      <th>name_len</th>\n",
              "      <th>item_len</th>\n",
              "      <th>compound</th>\n",
              "      <th>negative</th>\n",
              "      <th>positive</th>\n",
              "      <th>neutral</th>\n",
              "      <th>text</th>\n",
              "    </tr>\n",
              "  </thead>\n",
              "  <tbody>\n",
              "    <tr>\n",
              "      <th>0</th>\n",
              "      <td>0</td>\n",
              "      <td>breast cancer i fight like a girl ring</td>\n",
              "      <td>1</td>\n",
              "      <td>ring</td>\n",
              "      <td>1</td>\n",
              "      <td>size 7</td>\n",
              "      <td>Women</td>\n",
              "      <td>Jewelry</td>\n",
              "      <td>Rings</td>\n",
              "      <td>8</td>\n",
              "      <td>2</td>\n",
              "      <td>0.0000</td>\n",
              "      <td>0.000</td>\n",
              "      <td>0.000</td>\n",
              "      <td>1.000</td>\n",
              "      <td>breast cancer i fight like a girl ring size 7</td>\n",
              "    </tr>\n",
              "    <tr>\n",
              "      <th>1</th>\n",
              "      <td>1</td>\n",
              "      <td>25 pcs new 7 5 x12 kraft bubble mailers</td>\n",
              "      <td>1</td>\n",
              "      <td>kraft</td>\n",
              "      <td>1</td>\n",
              "      <td>25 pcs new 7 5 x12 kraft bubble mailers lined ...</td>\n",
              "      <td>Other</td>\n",
              "      <td>Office supplies</td>\n",
              "      <td>Shipping Supplies</td>\n",
              "      <td>9</td>\n",
              "      <td>34</td>\n",
              "      <td>0.8750</td>\n",
              "      <td>0.000</td>\n",
              "      <td>0.282</td>\n",
              "      <td>0.718</td>\n",
              "      <td>25 pcs new 7 5 x12 kraft bubble mailers 25 pcs...</td>\n",
              "    </tr>\n",
              "    <tr>\n",
              "      <th>2</th>\n",
              "      <td>2</td>\n",
              "      <td>coach bag</td>\n",
              "      <td>1</td>\n",
              "      <td>coach</td>\n",
              "      <td>1</td>\n",
              "      <td>brand new coach bag bought rm coach outlet</td>\n",
              "      <td>Vintage &amp; Collectibles</td>\n",
              "      <td>Bags and Purses</td>\n",
              "      <td>Handbag</td>\n",
              "      <td>2</td>\n",
              "      <td>8</td>\n",
              "      <td>0.0000</td>\n",
              "      <td>0.000</td>\n",
              "      <td>0.000</td>\n",
              "      <td>1.000</td>\n",
              "      <td>coach bag brand new coach bag bought rm coach ...</td>\n",
              "    </tr>\n",
              "    <tr>\n",
              "      <th>3</th>\n",
              "      <td>3</td>\n",
              "      <td>floral kimono</td>\n",
              "      <td>2</td>\n",
              "      <td>worn</td>\n",
              "      <td>0</td>\n",
              "      <td>floral kimono never worn lightweight perfect h...</td>\n",
              "      <td>Women</td>\n",
              "      <td>Sweaters</td>\n",
              "      <td>Cardigan</td>\n",
              "      <td>2</td>\n",
              "      <td>8</td>\n",
              "      <td>-0.2755</td>\n",
              "      <td>0.275</td>\n",
              "      <td>0.173</td>\n",
              "      <td>0.551</td>\n",
              "      <td>floral kimono floral kimono never worn lightwe...</td>\n",
              "    </tr>\n",
              "    <tr>\n",
              "      <th>4</th>\n",
              "      <td>4</td>\n",
              "      <td>life after death</td>\n",
              "      <td>3</td>\n",
              "      <td>missing</td>\n",
              "      <td>1</td>\n",
              "      <td>rediscovering life loss loved one tony cooke p...</td>\n",
              "      <td>Other</td>\n",
              "      <td>Books</td>\n",
              "      <td>Religion &amp; Spirituality</td>\n",
              "      <td>3</td>\n",
              "      <td>21</td>\n",
              "      <td>0.1531</td>\n",
              "      <td>0.281</td>\n",
              "      <td>0.299</td>\n",
              "      <td>0.419</td>\n",
              "      <td>life after death rediscovering life loss loved...</td>\n",
              "    </tr>\n",
              "  </tbody>\n",
              "</table>\n",
              "</div>"
            ],
            "text/plain": [
              "   test_id  ...                                               text\n",
              "0        0  ...      breast cancer i fight like a girl ring size 7\n",
              "1        1  ...  25 pcs new 7 5 x12 kraft bubble mailers 25 pcs...\n",
              "2        2  ...  coach bag brand new coach bag bought rm coach ...\n",
              "3        3  ...  floral kimono floral kimono never worn lightwe...\n",
              "4        4  ...  life after death rediscovering life loss loved...\n",
              "\n",
              "[5 rows x 16 columns]"
            ]
          },
          "metadata": {
            "tags": []
          },
          "execution_count": 6
        }
      ]
    },
    {
      "cell_type": "code",
      "metadata": {
        "id": "cf8b0b95",
        "colab": {
          "base_uri": "https://localhost:8080/"
        },
        "outputId": "e94bb6d8-7c19-46ea-fb0d-8664e4a9024c"
      },
      "source": [
        "print(train.shape)"
      ],
      "id": "cf8b0b95",
      "execution_count": 7,
      "outputs": [
        {
          "output_type": "stream",
          "text": [
            "(1462949, 18)\n"
          ],
          "name": "stdout"
        }
      ]
    },
    {
      "cell_type": "code",
      "metadata": {
        "id": "94176598",
        "colab": {
          "base_uri": "https://localhost:8080/"
        },
        "outputId": "bea07fd8-21d7-48ed-a126-b4e3d9cff0fa"
      },
      "source": [
        "train.isnull().sum()"
      ],
      "id": "94176598",
      "execution_count": 8,
      "outputs": [
        {
          "output_type": "execute_result",
          "data": {
            "text/plain": [
              "train_id             0\n",
              "name                 0\n",
              "item_condition_id    0\n",
              "brand_name           0\n",
              "price                0\n",
              "shipping             0\n",
              "item_description     0\n",
              "main_category        0\n",
              "sub_category         0\n",
              "item_category        0\n",
              "log_price            0\n",
              "name_len             0\n",
              "item_len             0\n",
              "compound             0\n",
              "negative             0\n",
              "positive             0\n",
              "neutral              0\n",
              "text                 0\n",
              "dtype: int64"
            ]
          },
          "metadata": {
            "tags": []
          },
          "execution_count": 8
        }
      ]
    },
    {
      "cell_type": "code",
      "metadata": {
        "id": "aa5a6eeb",
        "colab": {
          "base_uri": "https://localhost:8080/"
        },
        "outputId": "d44e3878-ec29-411e-a7c6-bf87f6c185f7"
      },
      "source": [
        "print('Number of data_point is-{} and Number of features/variables is-{}'.format(train.shape[0],train.shape[1]))"
      ],
      "id": "aa5a6eeb",
      "execution_count": 9,
      "outputs": [
        {
          "output_type": "stream",
          "text": [
            "Number of data_point is-1462949 and Number of features/variables is-18\n"
          ],
          "name": "stdout"
        }
      ]
    },
    {
      "cell_type": "code",
      "metadata": {
        "id": "0632350f",
        "colab": {
          "base_uri": "https://localhost:8080/"
        },
        "outputId": "ff841e8a-4505-455f-b495-73b22738255e"
      },
      "source": [
        "train.columns"
      ],
      "id": "0632350f",
      "execution_count": 10,
      "outputs": [
        {
          "output_type": "execute_result",
          "data": {
            "text/plain": [
              "Index(['train_id', 'name', 'item_condition_id', 'brand_name', 'price',\n",
              "       'shipping', 'item_description', 'main_category', 'sub_category',\n",
              "       'item_category', 'log_price', 'name_len', 'item_len', 'compound',\n",
              "       'negative', 'positive', 'neutral', 'text'],\n",
              "      dtype='object')"
            ]
          },
          "metadata": {
            "tags": []
          },
          "execution_count": 10
        }
      ]
    },
    {
      "cell_type": "code",
      "metadata": {
        "id": "189d8723"
      },
      "source": [
        "df_train,df_test=train_test_split(train,test_size=0.25)"
      ],
      "id": "189d8723",
      "execution_count": 11,
      "outputs": []
    },
    {
      "cell_type": "code",
      "metadata": {
        "id": "126191c7"
      },
      "source": [
        "from scipy.sparse import csr_matrix\n",
        "def dummy_encoding(data):\n",
        "    data_transform = csr_matrix(pd.get_dummies(data[[\"item_condition_id\",\"shipping\"]], sparse = True).values)\n",
        "    return data_transform"
      ],
      "id": "126191c7",
      "execution_count": 12,
      "outputs": []
    },
    {
      "cell_type": "code",
      "metadata": {
        "id": "458a31b4",
        "colab": {
          "base_uri": "https://localhost:8080/"
        },
        "outputId": "fc8d99e8-ce95-400e-83f3-2529b1d5d149"
      },
      "source": [
        "df_train[\"shipping\"] = df_train[\"shipping\"].astype(\"category\")\n",
        "df_test[\"shipping\"] = df_test[\"shipping\"].astype(\"category\")\n",
        "test_final[\"shipping\"] = test_final[\"shipping\"].astype(\"category\")\n",
        "\n",
        "df_train[\"item_condition_id\"] = df_train[\"item_condition_id\"].astype(\"category\")\n",
        "df_test[\"item_condition_id\"] = df_test[\"item_condition_id\"].astype(\"category\")\n",
        "test_final[\"item_condition_id\"] = test_final[\"item_condition_id\"].astype(\"category\")\n",
        "train_dummies=dummy_encoding(df_train)\n",
        "test_dummies=dummy_encoding(df_test)\n",
        "test_final_dummies=dummy_encoding(test_final)\n",
        "print(train_dummies.shape)\n",
        "print(test_dummies.shape)\n",
        "print(test_final_dummies.shape)"
      ],
      "id": "458a31b4",
      "execution_count": 13,
      "outputs": [
        {
          "output_type": "stream",
          "text": [
            "(1097211, 7)\n",
            "(365738, 7)\n",
            "(3460725, 7)\n"
          ],
          "name": "stdout"
        }
      ]
    },
    {
      "cell_type": "markdown",
      "metadata": {
        "id": "380bd50e"
      },
      "source": [
        "## TextEncoding"
      ],
      "id": "380bd50e"
    },
    {
      "cell_type": "code",
      "metadata": {
        "id": "dfbc0bfa"
      },
      "source": [
        "from sklearn.feature_extraction.text import TfidfVectorizer\n",
        "from sklearn.feature_extraction.text import CountVectorizer\n",
        "def text_encoding(train,test,test_final,type_val,params):\n",
        "    if type_val == 'BOW':\n",
        "        vectorizer = CountVectorizer(ngram_range = params[0],min_df=1,max_df=25,max_features=params[1])  \n",
        "    else :\n",
        "        vectorizer=TfidfVectorizer(ngram_range = params[0],min_df=1,max_df=25,max_features=params[1])\n",
        "    train_transform = vectorizer.fit_transform(train)\n",
        "    test_final_transform=vectorizer.transform(test_final)\n",
        "    test_transform = vectorizer.transform(test)\n",
        "    return train_transform,test_transform,test_final_transform"
      ],
      "id": "dfbc0bfa",
      "execution_count": 30,
      "outputs": []
    },
    {
      "cell_type": "code",
      "metadata": {
        "id": "5e16484f",
        "colab": {
          "base_uri": "https://localhost:8080/"
        },
        "outputId": "333018a5-deca-4d02-82d3-66345f9d6f2b"
      },
      "source": [
        "%%time\n",
        "train_bow_name,test_bow_name,test_final_bow_name = text_encoding(df_train['name'],df_test['name'],test_final['name'],'TFIDF',((1,4),50000))\n",
        "print(train_bow_name.shape,test_bow_name.shape,test_final_bow_name.shape)"
      ],
      "id": "5e16484f",
      "execution_count": 65,
      "outputs": [
        {
          "output_type": "stream",
          "text": [
            "(1097211, 50000) (365738, 50000) (3460725, 50000)\n",
            "CPU times: user 1min 16s, sys: 765 ms, total: 1min 16s\n",
            "Wall time: 1min 17s\n"
          ],
          "name": "stdout"
        }
      ]
    },
    {
      "cell_type": "code",
      "metadata": {
        "id": "1b5765e2",
        "colab": {
          "base_uri": "https://localhost:8080/"
        },
        "outputId": "6b0e3595-0929-46e6-de2b-18b3522604b2"
      },
      "source": [
        "%%time\n",
        "train_tfidf_desc,test_tfidf_desc,test_final_tfidf_desc = text_encoding(df_train['item_description'],df_test['item_description'],test_final['item_description'],'TFIDF',((1,3),100000))\n",
        "print(train_tfidf_desc.shape,test_tfidf_desc.shape,test_final_tfidf_desc.shape)"
      ],
      "id": "1b5765e2",
      "execution_count": 66,
      "outputs": [
        {
          "output_type": "stream",
          "text": [
            "(1097211, 100000) (365738, 100000) (3460725, 100000)\n",
            "CPU times: user 4min 30s, sys: 4.22 s, total: 4min 34s\n",
            "Wall time: 4min 34s\n"
          ],
          "name": "stdout"
        }
      ]
    },
    {
      "cell_type": "markdown",
      "metadata": {
        "id": "e533882d"
      },
      "source": [
        "## Label Binarizer"
      ],
      "id": "e533882d"
    },
    {
      "cell_type": "code",
      "metadata": {
        "id": "12833c96"
      },
      "source": [
        "from sklearn.preprocessing import LabelBinarizer\n",
        "def label_binarizer(train,test,test_final):\n",
        "    lb_brand_name = LabelBinarizer(sparse_output=True)\n",
        "    lb_brand_name.fit(train)\n",
        "    train_label=lb_brand_name.transform(train)\n",
        "    test_label=lb_brand_name.transform(test)\n",
        "    test_final_label=lb_brand_name.transform(test_final)\n",
        "    return train_label,test_label,test_final_label"
      ],
      "id": "12833c96",
      "execution_count": 14,
      "outputs": []
    },
    {
      "cell_type": "code",
      "metadata": {
        "id": "39495760",
        "colab": {
          "base_uri": "https://localhost:8080/"
        },
        "outputId": "b6a7e707-bb84-4c3e-c031-9bdbeee1e43a"
      },
      "source": [
        "%%time\n",
        "train_brand,test_brand,test_final_brand=label_binarizer(df_train['brand_name'],df_test['brand_name'],test_final['brand_name'])\n",
        "print(train_brand.shape,test_brand.shape,test_final_brand.shape)"
      ],
      "id": "39495760",
      "execution_count": 15,
      "outputs": [
        {
          "output_type": "stream",
          "text": [
            "(1097211, 4549) (365738, 4549) (3460725, 4549)\n",
            "CPU times: user 9min 28s, sys: 1.64 s, total: 9min 29s\n",
            "Wall time: 9min 30s\n"
          ],
          "name": "stdout"
        }
      ]
    },
    {
      "cell_type": "code",
      "metadata": {
        "id": "92b79aca",
        "colab": {
          "base_uri": "https://localhost:8080/"
        },
        "outputId": "2323067d-95e4-44bb-9486-b8e39c16a14f"
      },
      "source": [
        "%%time\n",
        "train_main,test_main,test_final_main=label_binarizer(df_train['main_category'],df_test['main_category'],test_final['main_categoey'])\n",
        "print(train_main.shape,test_main.shape,test_final_main.shape)"
      ],
      "id": "92b79aca",
      "execution_count": 16,
      "outputs": [
        {
          "output_type": "stream",
          "text": [
            "(1097211, 11) (365738, 11) (3460725, 11)\n",
            "CPU times: user 22.7 s, sys: 71.1 ms, total: 22.8 s\n",
            "Wall time: 22.7 s\n"
          ],
          "name": "stdout"
        }
      ]
    },
    {
      "cell_type": "code",
      "metadata": {
        "id": "9896c4b2",
        "colab": {
          "base_uri": "https://localhost:8080/"
        },
        "outputId": "92f17f21-9425-4f6a-b998-d084b155a229"
      },
      "source": [
        "%%time\n",
        "train_sub,test_sub,test_final_sub=label_binarizer(df_train['sub_category'],df_test['sub_category'],test_final['sub_category'])\n",
        "print(train_sub.shape,test_sub.shape,test_final_sub.shape)"
      ],
      "id": "9896c4b2",
      "execution_count": 17,
      "outputs": [
        {
          "output_type": "stream",
          "text": [
            "(1097211, 114) (365738, 114) (3460725, 114)\n",
            "CPU times: user 42.3 s, sys: 152 ms, total: 42.4 s\n",
            "Wall time: 43 s\n"
          ],
          "name": "stdout"
        }
      ]
    },
    {
      "cell_type": "code",
      "metadata": {
        "id": "7155078f",
        "colab": {
          "base_uri": "https://localhost:8080/"
        },
        "outputId": "a8ca049c-d8fa-4420-fb55-61cb11cdec67"
      },
      "source": [
        "%%time\n",
        "train_item,test_item,test_final_item=label_binarizer(df_train['item_category'],df_test['item_category'],test_final['item_category'])\n",
        "print(train_item.shape,test_item.shape,test_final_item.shape)"
      ],
      "id": "7155078f",
      "execution_count": 18,
      "outputs": [
        {
          "output_type": "stream",
          "text": [
            "(1097211, 857) (365738, 857) (3460725, 857)\n",
            "CPU times: user 2min 41s, sys: 460 ms, total: 2min 42s\n",
            "Wall time: 2min 42s\n"
          ],
          "name": "stdout"
        }
      ]
    },
    {
      "cell_type": "markdown",
      "metadata": {
        "id": "156e9dfe"
      },
      "source": [
        "## Normalizer"
      ],
      "id": "156e9dfe"
    },
    {
      "cell_type": "code",
      "metadata": {
        "id": "9db3b0b3"
      },
      "source": [
        "from sklearn.preprocessing import Normalizer\n",
        "def data_Normalizer(train,test,test_final):\n",
        "    norm=Normalizer()\n",
        "    norm.fit(train)\n",
        "    train_norm=norm.transform(train)\n",
        "    test_norm=norm.transform(test)\n",
        "    test_final_norm=norm.transform(test_final)\n",
        "    return train_norm,test_norm,test_final_norm"
      ],
      "id": "9db3b0b3",
      "execution_count": 19,
      "outputs": []
    },
    {
      "cell_type": "code",
      "metadata": {
        "id": "31cddc98"
      },
      "source": [
        "train_name_len,test_name_len,test_final_name_len=data_Normalizer(df_train['name_len'].values.reshape(-1,1),df_test['name_len'].values.reshape(-1,1),test_final['name_len'].values.reshape(-1,1))"
      ],
      "id": "31cddc98",
      "execution_count": 20,
      "outputs": []
    },
    {
      "cell_type": "code",
      "metadata": {
        "id": "6380d578"
      },
      "source": [
        "train_item_len,test_item_len,test_final_item_len=data_Normalizer(df_train['item_len'].values.reshape(-1,1),df_test['item_len'].values.reshape(-1,1),test_final['item_len'].values.reshape(-1,1))"
      ],
      "id": "6380d578",
      "execution_count": 21,
      "outputs": []
    },
    {
      "cell_type": "code",
      "metadata": {
        "id": "b39acd6e"
      },
      "source": [
        "train_pos=df_train['positive'].values.reshape(-1,1)\n",
        "test_pos=df_test['positive'].values.reshape(-1,1)\n",
        "test_final_pos=test_final['positive'].values.reshape(-1,1)"
      ],
      "id": "b39acd6e",
      "execution_count": 22,
      "outputs": []
    },
    {
      "cell_type": "code",
      "metadata": {
        "id": "2ee469b4"
      },
      "source": [
        "train_neg=df_train['negative'].values.reshape(-1,1)\n",
        "test_neg=df_test['negative'].values.reshape(-1,1)\n",
        "test_final_neg=test_final['negative'].values.reshape(-1,1)"
      ],
      "id": "2ee469b4",
      "execution_count": 23,
      "outputs": []
    },
    {
      "cell_type": "code",
      "metadata": {
        "id": "895e1ea2"
      },
      "source": [
        "train_neu=df_train['neutral'].values.reshape(-1,1)\n",
        "test_neu=df_test['neutral'].values.reshape(-1,1)\n",
        "test_final_neu=test_final['neutral'].values.reshape(-1,1)"
      ],
      "id": "895e1ea2",
      "execution_count": 24,
      "outputs": []
    },
    {
      "cell_type": "code",
      "metadata": {
        "id": "b3ce297c"
      },
      "source": [
        "train_com=df_train['compound'].values.reshape(-1,1)\n",
        "test_com=df_test['compound'].values.reshape(-1,1)\n",
        "test_final_com=test_final['compound'].values.reshape(-1,1)"
      ],
      "id": "b3ce297c",
      "execution_count": 25,
      "outputs": []
    },
    {
      "cell_type": "code",
      "metadata": {
        "id": "9900beb8",
        "colab": {
          "base_uri": "https://localhost:8080/"
        },
        "outputId": "1ca628b1-7e45-4397-8c3f-04e1dbd1f712"
      },
      "source": [
        "%%time\n",
        "from scipy.sparse import hstack\n",
        "train_s=hstack((train_dummies,train_bow_name,train_tfidf_desc,train_brand,train_main,train_sub,train_item,train_name_len,train_item_len,train_pos,train_neg,train_neu,train_com)).tocsr().astype('float32')\n",
        "test_s=hstack((test_dummies,test_bow_name,test_tfidf_desc,test_brand,test_main,test_sub,test_item,test_name_len,test_item_len,test_pos,test_neg,test_neu,test_com)).tocsr().astype('float32')\n",
        "test_final_s=hstack((test_final_dummies,test_final_bow_name,test_final_tfidf_desc,test_final_brand,test_final_main,test_final_sub,test_final_item,test_final_name_len,test_final_item_len,test_final_pos,test_final_neg,test_final_neu,test_final_com)).tocsr().astype('float32')"
      ],
      "id": "9900beb8",
      "execution_count": 67,
      "outputs": [
        {
          "output_type": "stream",
          "text": [
            "CPU times: user 3.85 s, sys: 299 ms, total: 4.15 s\n",
            "Wall time: 4.13 s\n"
          ],
          "name": "stdout"
        }
      ]
    },
    {
      "cell_type": "code",
      "metadata": {
        "id": "b46ab62a"
      },
      "source": [
        "Y_train=df_train['log_price']\n",
        "Y_test=df_test['log_price']"
      ],
      "id": "b46ab62a",
      "execution_count": 68,
      "outputs": []
    },
    {
      "cell_type": "code",
      "metadata": {
        "id": "bd545b90",
        "colab": {
          "base_uri": "https://localhost:8080/"
        },
        "outputId": "5d6fb1b3-b4c3-41d0-cd37-c5cf312ed1dc"
      },
      "source": [
        "print(\"Final Train Shape\",train_s.shape,Y_train.shape)\n",
        "print(\"Final Test Shape\",test_s.shape,Y_test.shape)\n",
        "print(\"Test shape\",test_final_s.shape)"
      ],
      "id": "bd545b90",
      "execution_count": 69,
      "outputs": [
        {
          "output_type": "stream",
          "text": [
            "Final Train Shape (1097211, 155544) (1097211,)\n",
            "Final Test Shape (365738, 155544) (365738,)\n",
            "Test shape (3460725, 155544)\n"
          ],
          "name": "stdout"
        }
      ]
    },
    {
      "cell_type": "code",
      "metadata": {
        "id": "5e3a04b2"
      },
      "source": [
        "from sklearn.metrics import mean_squared_error, make_scorer,mean_squared_log_error\n",
        "def rmsle(y_pred, y):\n",
        "    if len(y_pred)==len(y):\n",
        "        return np.sqrt(mean_squared_log_error(np.expm1(y_pred), np.expm1(y)))"
      ],
      "id": "5e3a04b2",
      "execution_count": 36,
      "outputs": []
    },
    {
      "cell_type": "code",
      "metadata": {
        "id": "f4407e43"
      },
      "source": [
        "from sklearn.linear_model import Ridge\n",
        "from sklearn.linear_model import SGDRegressor\n",
        "from sklearn.linear_model import LinearRegression\n",
        "from lightgbm import LGBMRegressor\n",
        "from sklearn.linear_model import SGDRegressor\n",
        "from sklearn.metrics import make_scorer\n",
        "from sklearn.linear_model import LassoCV\n",
        "from sklearn.pipeline import Pipeline\n",
        "from sklearn.metrics import mean_squared_error"
      ],
      "id": "f4407e43",
      "execution_count": 37,
      "outputs": []
    },
    {
      "cell_type": "code",
      "metadata": {
        "id": "d842bce7",
        "colab": {
          "base_uri": "https://localhost:8080/"
        },
        "outputId": "bb453c9d-1db8-47d8-fc90-aeffa5e85e42"
      },
      "source": [
        "%%time\n",
        "models = []  # Empty list to store all the models\n",
        "# Appending pipelines for each model into the list\n",
        "\n",
        "\n",
        "models.append((\n",
        "    \"Ridge\",\n",
        "              Pipeline(\n",
        "            steps=[\n",
        "                (\"Ridge\", Ridge(solver = \"lsqr\", fit_intercept=False)),\n",
        "            ]\n",
        "        ),\n",
        ")\n",
        ")\n",
        "models.append((\n",
        "    \"LGBM Regressor\",\n",
        "              Pipeline(\n",
        "            steps=[\n",
        "                (\"LGBM \", LGBMRegressor()),\n",
        "            ]\n",
        "        ),\n",
        ")\n",
        ")\n",
        "\n",
        "\n",
        "models.append((\n",
        "           \"SGD Regressor\",\n",
        "              Pipeline(\n",
        "            steps=[\n",
        "                (\"SGD \", SGDRegressor()),\n",
        "            ]\n",
        "        ),\n",
        ")\n",
        ")\n",
        "\n",
        "\n",
        "\n",
        "results = []  # Empty list to store all model's CV scores\n",
        "names = []  # Empty list to store name of the models\n",
        "\n",
        "# loop through all models to get the mean cross validated score\n",
        "from tqdm import tqdm\n",
        "for name, model in tqdm(models):\n",
        "    # Setting number of splits equal to 5\n",
        "    scores = cross_val_score(model,train_s,Y_train, cv=5,\n",
        "                             scoring=make_scorer(rmsle, greater_is_better=False))\n",
        "    results.append(-1*scores)\n",
        "    names.append(name)\n",
        "    print(\"{}: {}\".format(name, -1*scores.mean() * 100))"
      ],
      "id": "d842bce7",
      "execution_count": 70,
      "outputs": [
        {
          "output_type": "stream",
          "text": [
            " 33%|███▎      | 1/3 [00:27<00:54, 27.45s/it]"
          ],
          "name": "stderr"
        },
        {
          "output_type": "stream",
          "text": [
            "Ridge: 54.030055341222564\n"
          ],
          "name": "stdout"
        },
        {
          "output_type": "stream",
          "text": [
            "\r 67%|██████▋   | 2/3 [03:22<01:11, 71.85s/it]"
          ],
          "name": "stderr"
        },
        {
          "output_type": "stream",
          "text": [
            "LGBM Regressor: 56.56499730269095\n"
          ],
          "name": "stdout"
        },
        {
          "output_type": "stream",
          "text": [
            "100%|██████████| 3/3 [03:41<00:00, 73.86s/it]"
          ],
          "name": "stderr"
        },
        {
          "output_type": "stream",
          "text": [
            "SGD Regressor: 56.93410492451233\n",
            "CPU times: user 6min 27s, sys: 1.83 s, total: 6min 28s\n",
            "Wall time: 3min 41s\n"
          ],
          "name": "stdout"
        },
        {
          "output_type": "stream",
          "text": [
            "\n"
          ],
          "name": "stderr"
        }
      ]
    },
    {
      "cell_type": "code",
      "metadata": {
        "id": "11812552",
        "colab": {
          "base_uri": "https://localhost:8080/",
          "height": 479
        },
        "outputId": "4fde489b-530b-4c0a-f9f9-7ccc62e3183c"
      },
      "source": [
        "fig = plt.figure(figsize=(10, 7))\n",
        "\n",
        "fig.suptitle(\"Algorithm Comparison\")\n",
        "ax = fig.add_subplot(111)\n",
        "plt.boxplot(results)\n",
        "ax.set_xticklabels(names)\n",
        "plt.show()"
      ],
      "id": "11812552",
      "execution_count": 71,
      "outputs": [
        {
          "output_type": "display_data",
          "data": {
            "image/png": "[encoded data removed]",
            "text/plain": [
              "<Figure size 720x504 with 1 Axes>"
            ]
          },
          "metadata": {
            "tags": [],
            "needs_background": "light"
          }
        }
      ]
    },
    {
      "cell_type": "markdown",
      "metadata": {
        "id": "38cd40bb"
      },
      "source": [
        "## GridSearchCV(LGBM)"
      ],
      "id": "38cd40bb"
    },
    {
      "cell_type": "code",
      "metadata": {
        "id": "7c968fed",
        "colab": {
          "base_uri": "https://localhost:8080/"
        },
        "outputId": "70696747-a0cf-4a16-a653-84f3aaf99b23"
      },
      "source": [
        "%%time\n",
        "params={'n_estimators':[100,500,1000],'learning_rate':[0.05,0.15,0.25]}\n",
        "model_lgbm= LGBMRegressor(colsample_bytree=0.8,\n",
        "               min_child_samples=50)\n",
        "\n",
        "model=GridSearchCV(estimator = model_lgbm, param_grid = params,\n",
        "                                    return_train_score=True, scoring = 'neg_mean_squared_error',\\\n",
        "                                    cv = 3,verbose=2)\n",
        "model.fit(train_s,Y_train)"
      ],
      "id": "7c968fed",
      "execution_count": 84,
      "outputs": [
        {
          "output_type": "stream",
          "text": [
            "Fitting 3 folds for each of 9 candidates, totalling 27 fits\n",
            "[CV] learning_rate=0.05, n_estimators=100 ............................\n"
          ],
          "name": "stdout"
        },
        {
          "output_type": "stream",
          "text": [
            "[Parallel(n_jobs=1)]: Using backend SequentialBackend with 1 concurrent workers.\n"
          ],
          "name": "stderr"
        },
        {
          "output_type": "stream",
          "text": [
            "[CV] ............. learning_rate=0.05, n_estimators=100, total=  19.6s\n",
            "[CV] learning_rate=0.05, n_estimators=100 ............................\n"
          ],
          "name": "stdout"
        },
        {
          "output_type": "stream",
          "text": [
            "[Parallel(n_jobs=1)]: Done   1 out of   1 | elapsed:   39.4s remaining:    0.0s\n"
          ],
          "name": "stderr"
        },
        {
          "output_type": "stream",
          "text": [
            "[CV] ............. learning_rate=0.05, n_estimators=100, total=  17.9s\n",
            "[CV] learning_rate=0.05, n_estimators=100 ............................\n",
            "[CV] ............. learning_rate=0.05, n_estimators=100, total=  18.6s\n",
            "[CV] learning_rate=0.05, n_estimators=500 ............................\n",
            "[CV] ............. learning_rate=0.05, n_estimators=500, total= 1.6min\n",
            "[CV] learning_rate=0.05, n_estimators=500 ............................\n",
            "[CV] ............. learning_rate=0.05, n_estimators=500, total= 1.6min\n",
            "[CV] learning_rate=0.05, n_estimators=500 ............................\n",
            "[CV] ............. learning_rate=0.05, n_estimators=500, total= 1.6min\n",
            "[CV] learning_rate=0.05, n_estimators=1000 ...........................\n",
            "[CV] ............ learning_rate=0.05, n_estimators=1000, total= 2.8min\n",
            "[CV] learning_rate=0.05, n_estimators=1000 ...........................\n",
            "[CV] ............ learning_rate=0.05, n_estimators=1000, total= 2.8min\n",
            "[CV] learning_rate=0.05, n_estimators=1000 ...........................\n",
            "[CV] ............ learning_rate=0.05, n_estimators=1000, total= 2.9min\n",
            "[CV] learning_rate=0.15, n_estimators=100 ............................\n",
            "[CV] ............. learning_rate=0.15, n_estimators=100, total=  20.0s\n",
            "[CV] learning_rate=0.15, n_estimators=100 ............................\n",
            "[CV] ............. learning_rate=0.15, n_estimators=100, total=  20.4s\n",
            "[CV] learning_rate=0.15, n_estimators=100 ............................\n",
            "[CV] ............. learning_rate=0.15, n_estimators=100, total=  20.5s\n",
            "[CV] learning_rate=0.15, n_estimators=500 ............................\n",
            "[CV] ............. learning_rate=0.15, n_estimators=500, total= 1.2min\n",
            "[CV] learning_rate=0.15, n_estimators=500 ............................\n",
            "[CV] ............. learning_rate=0.15, n_estimators=500, total= 1.2min\n",
            "[CV] learning_rate=0.15, n_estimators=500 ............................\n",
            "[CV] ............. learning_rate=0.15, n_estimators=500, total= 1.2min\n",
            "[CV] learning_rate=0.15, n_estimators=1000 ...........................\n",
            "[CV] ............ learning_rate=0.15, n_estimators=1000, total= 1.9min\n",
            "[CV] learning_rate=0.15, n_estimators=1000 ...........................\n",
            "[CV] ............ learning_rate=0.15, n_estimators=1000, total= 1.9min\n",
            "[CV] learning_rate=0.15, n_estimators=1000 ...........................\n",
            "[CV] ............ learning_rate=0.15, n_estimators=1000, total= 1.9min\n",
            "[CV] learning_rate=0.25, n_estimators=100 ............................\n",
            "[CV] ............. learning_rate=0.25, n_estimators=100, total=  19.1s\n",
            "[CV] learning_rate=0.25, n_estimators=100 ............................\n",
            "[CV] ............. learning_rate=0.25, n_estimators=100, total=  20.3s\n",
            "[CV] learning_rate=0.25, n_estimators=100 ............................\n",
            "[CV] ............. learning_rate=0.25, n_estimators=100, total=  19.9s\n",
            "[CV] learning_rate=0.25, n_estimators=500 ............................\n",
            "[CV] ............. learning_rate=0.25, n_estimators=500, total=  59.0s\n",
            "[CV] learning_rate=0.25, n_estimators=500 ............................\n",
            "[CV] ............. learning_rate=0.25, n_estimators=500, total= 1.0min\n",
            "[CV] learning_rate=0.25, n_estimators=500 ............................\n",
            "[CV] ............. learning_rate=0.25, n_estimators=500, total= 1.0min\n",
            "[CV] learning_rate=0.25, n_estimators=1000 ...........................\n",
            "[CV] ............ learning_rate=0.25, n_estimators=1000, total= 1.6min\n",
            "[CV] learning_rate=0.25, n_estimators=1000 ...........................\n",
            "[CV] ............ learning_rate=0.25, n_estimators=1000, total= 1.6min\n",
            "[CV] learning_rate=0.25, n_estimators=1000 ...........................\n",
            "[CV] ............ learning_rate=0.25, n_estimators=1000, total= 1.6min\n"
          ],
          "name": "stdout"
        },
        {
          "output_type": "stream",
          "text": [
            "[Parallel(n_jobs=1)]: Done  27 out of  27 | elapsed: 75.0min finished\n"
          ],
          "name": "stderr"
        },
        {
          "output_type": "stream",
          "text": [
            "CPU times: user 2h 30min 20s, sys: 8.38 s, total: 2h 30min 29s\n",
            "Wall time: 1h 16min 23s\n"
          ],
          "name": "stdout"
        }
      ]
    },
    {
      "cell_type": "code",
      "metadata": {
        "colab": {
          "base_uri": "https://localhost:8080/"
        },
        "id": "EgZ05AtKn7Wv",
        "outputId": "855b1b4a-90c7-4365-e476-e943a73fe0a7"
      },
      "source": [
        "model.best_estimator_"
      ],
      "id": "EgZ05AtKn7Wv",
      "execution_count": 85,
      "outputs": [
        {
          "output_type": "execute_result",
          "data": {
            "text/plain": [
              "LGBMRegressor(boosting_type='gbdt', class_weight=None, colsample_bytree=0.8,\n",
              "              importance_type='split', learning_rate=0.25, max_depth=-1,\n",
              "              min_child_samples=50, min_child_weight=0.001, min_split_gain=0.0,\n",
              "              n_estimators=1000, n_jobs=-1, num_leaves=31, objective=None,\n",
              "              random_state=None, reg_alpha=0.0, reg_lambda=0.0, silent=True,\n",
              "              subsample=1.0, subsample_for_bin=200000, subsample_freq=0)"
            ]
          },
          "metadata": {
            "tags": []
          },
          "execution_count": 85
        }
      ]
    },
    {
      "cell_type": "code",
      "metadata": {
        "id": "06e79bb6",
        "colab": {
          "base_uri": "https://localhost:8080/"
        },
        "outputId": "e60c8911-88ed-48c5-d317-13026f370a41"
      },
      "source": [
        "lgbm_model = LGBMRegressor(boosting_type='gbdt', class_weight=None, colsample_bytree=0.8,\n",
        "              importance_type='split', learning_rate=0.25, max_depth=-1,\n",
        "              min_child_samples=50, min_child_weight=0.001, min_split_gain=0.0,\n",
        "              n_estimators=1000, n_jobs=-1, num_leaves=31, objective=None,\n",
        "              random_state=None, reg_alpha=0.0, reg_lambda=0.0, silent=True,\n",
        "              subsample=1.0, subsample_for_bin=200000, subsample_freq=0)\n",
        "\n",
        "\n",
        "lgbm_model.fit(train_s, Y_train)"
      ],
      "id": "06e79bb6",
      "execution_count": 86,
      "outputs": [
        {
          "output_type": "execute_result",
          "data": {
            "text/plain": [
              "LGBMRegressor(boosting_type='gbdt', class_weight=None, colsample_bytree=0.8,\n",
              "              importance_type='split', learning_rate=0.25, max_depth=-1,\n",
              "              min_child_samples=50, min_child_weight=0.001, min_split_gain=0.0,\n",
              "              n_estimators=1000, n_jobs=-1, num_leaves=31, objective=None,\n",
              "              random_state=None, reg_alpha=0.0, reg_lambda=0.0, silent=True,\n",
              "              subsample=1.0, subsample_for_bin=200000, subsample_freq=0)"
            ]
          },
          "metadata": {
            "tags": []
          },
          "execution_count": 86
        }
      ]
    },
    {
      "cell_type": "code",
      "metadata": {
        "id": "7be4bb07",
        "colab": {
          "base_uri": "https://localhost:8080/"
        },
        "outputId": "a34943fb-c5fd-4204-e62b-b63d059a3b82"
      },
      "source": [
        "print('Train RMSLE = ',np.sqrt(mean_squared_error(Y_train,lgbm_model.predict(train_s))))\n",
        "print('Test RMSLE = ',np.sqrt(mean_squared_error(Y_test,lgbm_model.predict(test_s))))"
      ],
      "id": "7be4bb07",
      "execution_count": 87,
      "outputs": [
        {
          "output_type": "stream",
          "text": [
            "Train RMSLE =  0.5186514543110425\n",
            "Test RMSLE =  0.5300267626827093\n"
          ],
          "name": "stdout"
        }
      ]
    },
    {
      "cell_type": "markdown",
      "metadata": {
        "id": "27e83600"
      },
      "source": [
        "## GridSearchCV(SGDRegressor)"
      ],
      "id": "27e83600"
    },
    {
      "cell_type": "code",
      "metadata": {
        "id": "5328eed0",
        "colab": {
          "base_uri": "https://localhost:8080/"
        },
        "outputId": "d296a8c2-3343-404a-cc5f-6400a6ee0494"
      },
      "source": [
        "parameters = {'alpha':[10**x for x in range(-10, 10)],\n",
        "              }\n",
        "model_lr_reg = SGDRegressor(loss = \"squared_loss\",fit_intercept=False,l1_ratio=0.6)\n",
        "model=GridSearchCV(estimator = model_lr_reg, param_grid = parameters,\n",
        "                                    return_train_score=True, scoring = 'neg_mean_squared_error',\\\n",
        "                                    cv = 5,verbose=2)\n",
        "model.fit(train_s,Y_train)"
      ],
      "id": "5328eed0",
      "execution_count": 47,
      "outputs": [
        {
          "output_type": "stream",
          "text": [
            "Fitting 5 folds for each of 20 candidates, totalling 100 fits\n",
            "[CV] alpha=1e-10 .....................................................\n"
          ],
          "name": "stdout"
        },
        {
          "output_type": "stream",
          "text": [
            "[Parallel(n_jobs=1)]: Using backend SequentialBackend with 1 concurrent workers.\n"
          ],
          "name": "stderr"
        },
        {
          "output_type": "stream",
          "text": [
            "[CV] ...................................... alpha=1e-10, total=   3.3s\n",
            "[CV] alpha=1e-10 .....................................................\n"
          ],
          "name": "stdout"
        },
        {
          "output_type": "stream",
          "text": [
            "[Parallel(n_jobs=1)]: Done   1 out of   1 | elapsed:    3.4s remaining:    0.0s\n"
          ],
          "name": "stderr"
        },
        {
          "output_type": "stream",
          "text": [
            "[CV] ...................................... alpha=1e-10, total=   2.9s\n",
            "[CV] alpha=1e-10 .....................................................\n",
            "[CV] ...................................... alpha=1e-10, total=   2.8s\n",
            "[CV] alpha=1e-10 .....................................................\n",
            "[CV] ...................................... alpha=1e-10, total=   2.9s\n",
            "[CV] alpha=1e-10 .....................................................\n",
            "[CV] ...................................... alpha=1e-10, total=   2.8s\n",
            "[CV] alpha=1e-09 .....................................................\n",
            "[CV] ...................................... alpha=1e-09, total=   2.8s\n",
            "[CV] alpha=1e-09 .....................................................\n",
            "[CV] ...................................... alpha=1e-09, total=   2.8s\n",
            "[CV] alpha=1e-09 .....................................................\n",
            "[CV] ...................................... alpha=1e-09, total=   2.8s\n",
            "[CV] alpha=1e-09 .....................................................\n",
            "[CV] ...................................... alpha=1e-09, total=   2.9s\n",
            "[CV] alpha=1e-09 .....................................................\n",
            "[CV] ...................................... alpha=1e-09, total=   2.8s\n",
            "[CV] alpha=1e-08 .....................................................\n",
            "[CV] ...................................... alpha=1e-08, total=   2.9s\n",
            "[CV] alpha=1e-08 .....................................................\n",
            "[CV] ...................................... alpha=1e-08, total=   2.8s\n",
            "[CV] alpha=1e-08 .....................................................\n",
            "[CV] ...................................... alpha=1e-08, total=   2.9s\n",
            "[CV] alpha=1e-08 .....................................................\n",
            "[CV] ...................................... alpha=1e-08, total=   2.8s\n",
            "[CV] alpha=1e-08 .....................................................\n",
            "[CV] ...................................... alpha=1e-08, total=   2.8s\n",
            "[CV] alpha=1e-07 .....................................................\n",
            "[CV] ...................................... alpha=1e-07, total=   2.8s\n",
            "[CV] alpha=1e-07 .....................................................\n",
            "[CV] ...................................... alpha=1e-07, total=   4.2s\n",
            "[CV] alpha=1e-07 .....................................................\n",
            "[CV] ...................................... alpha=1e-07, total=   3.4s\n",
            "[CV] alpha=1e-07 .....................................................\n",
            "[CV] ...................................... alpha=1e-07, total=   2.8s\n",
            "[CV] alpha=1e-07 .....................................................\n",
            "[CV] ...................................... alpha=1e-07, total=   2.8s\n",
            "[CV] alpha=1e-06 .....................................................\n",
            "[CV] ...................................... alpha=1e-06, total=   2.8s\n",
            "[CV] alpha=1e-06 .....................................................\n",
            "[CV] ...................................... alpha=1e-06, total=   2.8s\n",
            "[CV] alpha=1e-06 .....................................................\n",
            "[CV] ...................................... alpha=1e-06, total=   2.8s\n",
            "[CV] alpha=1e-06 .....................................................\n",
            "[CV] ...................................... alpha=1e-06, total=   2.9s\n",
            "[CV] alpha=1e-06 .....................................................\n",
            "[CV] ...................................... alpha=1e-06, total=   2.8s\n",
            "[CV] alpha=1e-05 .....................................................\n",
            "[CV] ...................................... alpha=1e-05, total=   2.8s\n",
            "[CV] alpha=1e-05 .....................................................\n",
            "[CV] ...................................... alpha=1e-05, total=   2.8s\n",
            "[CV] alpha=1e-05 .....................................................\n",
            "[CV] ...................................... alpha=1e-05, total=   2.8s\n",
            "[CV] alpha=1e-05 .....................................................\n",
            "[CV] ...................................... alpha=1e-05, total=   2.8s\n",
            "[CV] alpha=1e-05 .....................................................\n",
            "[CV] ...................................... alpha=1e-05, total=   2.8s\n",
            "[CV] alpha=0.0001 ....................................................\n",
            "[CV] ..................................... alpha=0.0001, total=   2.8s\n",
            "[CV] alpha=0.0001 ....................................................\n",
            "[CV] ..................................... alpha=0.0001, total=   2.9s\n",
            "[CV] alpha=0.0001 ....................................................\n",
            "[CV] ..................................... alpha=0.0001, total=   2.9s\n",
            "[CV] alpha=0.0001 ....................................................\n",
            "[CV] ..................................... alpha=0.0001, total=   2.8s\n",
            "[CV] alpha=0.0001 ....................................................\n",
            "[CV] ..................................... alpha=0.0001, total=   2.8s\n",
            "[CV] alpha=0.001 .....................................................\n",
            "[CV] ...................................... alpha=0.001, total=   2.6s\n",
            "[CV] alpha=0.001 .....................................................\n",
            "[CV] ...................................... alpha=0.001, total=   2.6s\n",
            "[CV] alpha=0.001 .....................................................\n",
            "[CV] ...................................... alpha=0.001, total=   2.6s\n",
            "[CV] alpha=0.001 .....................................................\n",
            "[CV] ...................................... alpha=0.001, total=   2.6s\n",
            "[CV] alpha=0.001 .....................................................\n",
            "[CV] ...................................... alpha=0.001, total=   2.6s\n",
            "[CV] alpha=0.01 ......................................................\n",
            "[CV] ....................................... alpha=0.01, total=   2.0s\n",
            "[CV] alpha=0.01 ......................................................\n",
            "[CV] ....................................... alpha=0.01, total=   2.0s\n",
            "[CV] alpha=0.01 ......................................................\n",
            "[CV] ....................................... alpha=0.01, total=   2.0s\n",
            "[CV] alpha=0.01 ......................................................\n",
            "[CV] ....................................... alpha=0.01, total=   2.0s\n",
            "[CV] alpha=0.01 ......................................................\n",
            "[CV] ....................................... alpha=0.01, total=   2.0s\n",
            "[CV] alpha=0.1 .......................................................\n",
            "[CV] ........................................ alpha=0.1, total=   1.8s\n",
            "[CV] alpha=0.1 .......................................................\n",
            "[CV] ........................................ alpha=0.1, total=   1.8s\n",
            "[CV] alpha=0.1 .......................................................\n",
            "[CV] ........................................ alpha=0.1, total=   2.4s\n",
            "[CV] alpha=0.1 .......................................................\n",
            "[CV] ........................................ alpha=0.1, total=   1.8s\n",
            "[CV] alpha=0.1 .......................................................\n",
            "[CV] ........................................ alpha=0.1, total=   1.8s\n",
            "[CV] alpha=1 .........................................................\n",
            "[CV] .......................................... alpha=1, total=   1.8s\n",
            "[CV] alpha=1 .........................................................\n",
            "[CV] .......................................... alpha=1, total=   1.8s\n",
            "[CV] alpha=1 .........................................................\n",
            "[CV] .......................................... alpha=1, total=   1.8s\n",
            "[CV] alpha=1 .........................................................\n",
            "[CV] .......................................... alpha=1, total=   1.8s\n",
            "[CV] alpha=1 .........................................................\n",
            "[CV] .......................................... alpha=1, total=   1.8s\n",
            "[CV] alpha=10 ........................................................\n",
            "[CV] ......................................... alpha=10, total=   1.8s\n",
            "[CV] alpha=10 ........................................................\n",
            "[CV] ......................................... alpha=10, total=   1.8s\n",
            "[CV] alpha=10 ........................................................\n",
            "[CV] ......................................... alpha=10, total=   1.8s\n",
            "[CV] alpha=10 ........................................................\n",
            "[CV] ......................................... alpha=10, total=   1.8s\n",
            "[CV] alpha=10 ........................................................\n",
            "[CV] ......................................... alpha=10, total=   1.8s\n",
            "[CV] alpha=100 .......................................................\n",
            "[CV] ........................................ alpha=100, total=   2.0s\n",
            "[CV] alpha=100 .......................................................\n",
            "[CV] ........................................ alpha=100, total=   1.9s\n",
            "[CV] alpha=100 .......................................................\n",
            "[CV] ........................................ alpha=100, total=   2.0s\n",
            "[CV] alpha=100 .......................................................\n",
            "[CV] ........................................ alpha=100, total=   2.0s\n",
            "[CV] alpha=100 .......................................................\n",
            "[CV] ........................................ alpha=100, total=   2.0s\n",
            "[CV] alpha=1000 ......................................................\n",
            "[CV] ....................................... alpha=1000, total=   2.6s\n",
            "[CV] alpha=1000 ......................................................\n",
            "[CV] ....................................... alpha=1000, total=   2.6s\n",
            "[CV] alpha=1000 ......................................................\n",
            "[CV] ....................................... alpha=1000, total=   2.6s\n",
            "[CV] alpha=1000 ......................................................\n",
            "[CV] ....................................... alpha=1000, total=   2.6s\n",
            "[CV] alpha=1000 ......................................................\n",
            "[CV] ....................................... alpha=1000, total=   2.6s\n",
            "[CV] alpha=10000 .....................................................\n",
            "[CV] ...................................... alpha=10000, total=  31.9s\n",
            "[CV] alpha=10000 .....................................................\n",
            "[CV] ...................................... alpha=10000, total=  31.3s\n",
            "[CV] alpha=10000 .....................................................\n",
            "[CV] ...................................... alpha=10000, total=  31.6s\n",
            "[CV] alpha=10000 .....................................................\n",
            "[CV] ...................................... alpha=10000, total=  30.4s\n",
            "[CV] alpha=10000 .....................................................\n",
            "[CV] ...................................... alpha=10000, total=  30.9s\n",
            "[CV] alpha=100000 ....................................................\n",
            "[CV] ..................................... alpha=100000, total=  30.3s\n",
            "[CV] alpha=100000 ....................................................\n",
            "[CV] ..................................... alpha=100000, total=  31.1s\n",
            "[CV] alpha=100000 ....................................................\n",
            "[CV] ..................................... alpha=100000, total=  29.9s\n",
            "[CV] alpha=100000 ....................................................\n",
            "[CV] ..................................... alpha=100000, total=  29.8s\n",
            "[CV] alpha=100000 ....................................................\n",
            "[CV] ..................................... alpha=100000, total=  29.7s\n",
            "[CV] alpha=1000000 ...................................................\n",
            "[CV] .................................... alpha=1000000, total=  29.9s\n",
            "[CV] alpha=1000000 ...................................................\n",
            "[CV] .................................... alpha=1000000, total=  29.6s\n",
            "[CV] alpha=1000000 ...................................................\n",
            "[CV] .................................... alpha=1000000, total=  29.4s\n",
            "[CV] alpha=1000000 ...................................................\n",
            "[CV] .................................... alpha=1000000, total=  29.5s\n",
            "[CV] alpha=1000000 ...................................................\n",
            "[CV] .................................... alpha=1000000, total=  29.4s\n",
            "[CV] alpha=10000000 ..................................................\n",
            "[CV] ................................... alpha=10000000, total=  29.3s\n",
            "[CV] alpha=10000000 ..................................................\n",
            "[CV] ................................... alpha=10000000, total=  29.4s\n",
            "[CV] alpha=10000000 ..................................................\n",
            "[CV] ................................... alpha=10000000, total=  29.4s\n",
            "[CV] alpha=10000000 ..................................................\n",
            "[CV] ................................... alpha=10000000, total=  29.4s\n",
            "[CV] alpha=10000000 ..................................................\n",
            "[CV] ................................... alpha=10000000, total=  29.4s\n",
            "[CV] alpha=100000000 .................................................\n",
            "[CV] .................................. alpha=100000000, total=  29.3s\n",
            "[CV] alpha=100000000 .................................................\n",
            "[CV] .................................. alpha=100000000, total=  29.4s\n",
            "[CV] alpha=100000000 .................................................\n",
            "[CV] .................................. alpha=100000000, total=  29.4s\n",
            "[CV] alpha=100000000 .................................................\n",
            "[CV] .................................. alpha=100000000, total=  29.5s\n",
            "[CV] alpha=100000000 .................................................\n",
            "[CV] .................................. alpha=100000000, total=  29.4s\n",
            "[CV] alpha=1000000000 ................................................\n",
            "[CV] ................................. alpha=1000000000, total=  29.3s\n",
            "[CV] alpha=1000000000 ................................................\n",
            "[CV] ................................. alpha=1000000000, total=  29.4s\n",
            "[CV] alpha=1000000000 ................................................\n",
            "[CV] ................................. alpha=1000000000, total=  29.4s\n",
            "[CV] alpha=1000000000 ................................................\n",
            "[CV] ................................. alpha=1000000000, total=  29.3s\n",
            "[CV] alpha=1000000000 ................................................\n",
            "[CV] ................................. alpha=1000000000, total=  29.3s\n"
          ],
          "name": "stdout"
        },
        {
          "output_type": "stream",
          "text": [
            "[Parallel(n_jobs=1)]: Done 100 out of 100 | elapsed: 17.9min finished\n"
          ],
          "name": "stderr"
        },
        {
          "output_type": "execute_result",
          "data": {
            "text/plain": [
              "GridSearchCV(cv=5, error_score=nan,\n",
              "             estimator=SGDRegressor(alpha=0.0001, average=False,\n",
              "                                    early_stopping=False, epsilon=0.1,\n",
              "                                    eta0=0.01, fit_intercept=False,\n",
              "                                    l1_ratio=0.6, learning_rate='invscaling',\n",
              "                                    loss='squared_loss', max_iter=1000,\n",
              "                                    n_iter_no_change=5, penalty='l2',\n",
              "                                    power_t=0.25, random_state=None,\n",
              "                                    shuffle=True, tol=0.001,\n",
              "                                    validation_fraction=0.1, verbose=0,\n",
              "                                    warm_start=False),\n",
              "             iid='deprecated', n_jobs=None,\n",
              "             param_grid={'alpha': [1e-10, 1e-09, 1e-08, 1e-07, 1e-06, 1e-05,\n",
              "                                   0.0001, 0.001, 0.01, 0.1, 1, 10, 100, 1000,\n",
              "                                   10000, 100000, 1000000, 10000000, 100000000,\n",
              "                                   1000000000]},\n",
              "             pre_dispatch='2*n_jobs', refit=True, return_train_score=True,\n",
              "             scoring='neg_mean_squared_error', verbose=2)"
            ]
          },
          "metadata": {
            "tags": []
          },
          "execution_count": 47
        }
      ]
    },
    {
      "cell_type": "code",
      "metadata": {
        "colab": {
          "base_uri": "https://localhost:8080/"
        },
        "id": "GxNEyTbJPYAA",
        "outputId": "d2578e0a-45d8-4da5-b2c7-eedf946cdd72"
      },
      "source": [
        "model.best_estimator_"
      ],
      "id": "GxNEyTbJPYAA",
      "execution_count": 49,
      "outputs": [
        {
          "output_type": "execute_result",
          "data": {
            "text/plain": [
              "SGDRegressor(alpha=1e-10, average=False, early_stopping=False, epsilon=0.1,\n",
              "             eta0=0.01, fit_intercept=False, l1_ratio=0.6,\n",
              "             learning_rate='invscaling', loss='squared_loss', max_iter=1000,\n",
              "             n_iter_no_change=5, penalty='l2', power_t=0.25, random_state=None,\n",
              "             shuffle=True, tol=0.001, validation_fraction=0.1, verbose=0,\n",
              "             warm_start=False)"
            ]
          },
          "metadata": {
            "tags": []
          },
          "execution_count": 49
        }
      ]
    },
    {
      "cell_type": "code",
      "metadata": {
        "id": "2858a5aa",
        "colab": {
          "base_uri": "https://localhost:8080/"
        },
        "outputId": "8a1e9062-d66d-4003-a2e1-e9e4921c9f08"
      },
      "source": [
        "from sklearn.linear_model import RidgeCV\n",
        "sgd_model = SGDRegressor(alpha=1e-10, average=False, early_stopping=False, epsilon=0.1,\n",
        "             eta0=0.01, fit_intercept=False, l1_ratio=0.6,\n",
        "             learning_rate='invscaling', loss='squared_loss', max_iter=1000,\n",
        "             n_iter_no_change=5, penalty='l2', power_t=0.25, random_state=None,\n",
        "             shuffle=True, tol=0.001, validation_fraction=0.1, verbose=0,\n",
        "             warm_start=False)\n",
        "sgd_model.fit(train_s, Y_train)"
      ],
      "id": "2858a5aa",
      "execution_count": 74,
      "outputs": [
        {
          "output_type": "execute_result",
          "data": {
            "text/plain": [
              "SGDRegressor(alpha=1e-10, average=False, early_stopping=False, epsilon=0.1,\n",
              "             eta0=0.01, fit_intercept=False, l1_ratio=0.6,\n",
              "             learning_rate='invscaling', loss='squared_loss', max_iter=1000,\n",
              "             n_iter_no_change=5, penalty='l2', power_t=0.25, random_state=None,\n",
              "             shuffle=True, tol=0.001, validation_fraction=0.1, verbose=0,\n",
              "             warm_start=False)"
            ]
          },
          "metadata": {
            "tags": []
          },
          "execution_count": 74
        }
      ]
    },
    {
      "cell_type": "code",
      "metadata": {
        "id": "846c38d9",
        "colab": {
          "base_uri": "https://localhost:8080/"
        },
        "outputId": "356e25b2-77cb-4a3b-fa51-e2b4f8d145ee"
      },
      "source": [
        "print('Train RMSLE = ',np.sqrt(mean_squared_error(Y_train,sgd_model.predict(train_s))))\n",
        "print('Test RMSLE = ',np.sqrt(mean_squared_error(Y_test,sgd_model.predict(test_s))))"
      ],
      "id": "846c38d9",
      "execution_count": 75,
      "outputs": [
        {
          "output_type": "stream",
          "text": [
            "Train RMSLE =  0.5639109057158059\n",
            "Test RMSLE =  0.5660080278922949\n"
          ],
          "name": "stdout"
        }
      ]
    },
    {
      "cell_type": "markdown",
      "metadata": {
        "id": "8e425696"
      },
      "source": [
        "## GridSearchCV(Ridge )"
      ],
      "id": "8e425696"
    },
    {
      "cell_type": "code",
      "metadata": {
        "id": "e229c5f8",
        "colab": {
          "base_uri": "https://localhost:8080/"
        },
        "outputId": "3c4278ec-0763-44d4-dff2-f59a9e710a4c"
      },
      "source": [
        "%%time\n",
        "parameters = {'alpha':[0.0001,0.001,0.01,0.1,1.0,2.0,4.0,5.0,6.0]}\n",
        "model_ridge = Ridge(\n",
        "    solver='auto', fit_intercept=True,\n",
        "    max_iter=100, normalize=False, tol=0.05, random_state = 1,\n",
        ")\n",
        "model=GridSearchCV(estimator = model_ridge, param_grid = parameters,\n",
        "                                    return_train_score=True, scoring = 'neg_mean_squared_error',\n",
        "                                    cv = 5,\n",
        "                                    verbose=2)\n",
        "model.fit(train_s,Y_train)"
      ],
      "id": "e229c5f8",
      "execution_count": 53,
      "outputs": [
        {
          "output_type": "stream",
          "text": [
            "Fitting 5 folds for each of 9 candidates, totalling 45 fits\n",
            "[CV] alpha=0.0001 ....................................................\n"
          ],
          "name": "stdout"
        },
        {
          "output_type": "stream",
          "text": [
            "[Parallel(n_jobs=1)]: Using backend SequentialBackend with 1 concurrent workers.\n"
          ],
          "name": "stderr"
        },
        {
          "output_type": "stream",
          "text": [
            "[CV] ..................................... alpha=0.0001, total=   2.7s\n",
            "[CV] alpha=0.0001 ....................................................\n"
          ],
          "name": "stdout"
        },
        {
          "output_type": "stream",
          "text": [
            "[Parallel(n_jobs=1)]: Done   1 out of   1 | elapsed:    2.7s remaining:    0.0s\n"
          ],
          "name": "stderr"
        },
        {
          "output_type": "stream",
          "text": [
            "[CV] ..................................... alpha=0.0001, total=   1.3s\n",
            "[CV] alpha=0.0001 ....................................................\n",
            "[CV] ..................................... alpha=0.0001, total=   1.3s\n",
            "[CV] alpha=0.0001 ....................................................\n",
            "[CV] ..................................... alpha=0.0001, total=   1.3s\n",
            "[CV] alpha=0.0001 ....................................................\n",
            "[CV] ..................................... alpha=0.0001, total=   1.4s\n",
            "[CV] alpha=0.001 .....................................................\n",
            "[CV] ...................................... alpha=0.001, total=   1.6s\n",
            "[CV] alpha=0.001 .....................................................\n",
            "[CV] ...................................... alpha=0.001, total=   2.3s\n",
            "[CV] alpha=0.001 .....................................................\n",
            "[CV] ...................................... alpha=0.001, total=   1.3s\n",
            "[CV] alpha=0.001 .....................................................\n",
            "[CV] ...................................... alpha=0.001, total=   1.3s\n",
            "[CV] alpha=0.001 .....................................................\n",
            "[CV] ...................................... alpha=0.001, total=   1.4s\n",
            "[CV] alpha=0.01 ......................................................\n",
            "[CV] ....................................... alpha=0.01, total=   1.3s\n",
            "[CV] alpha=0.01 ......................................................\n",
            "[CV] ....................................... alpha=0.01, total=   1.3s\n",
            "[CV] alpha=0.01 ......................................................\n",
            "[CV] ....................................... alpha=0.01, total=   1.3s\n",
            "[CV] alpha=0.01 ......................................................\n",
            "[CV] ....................................... alpha=0.01, total=   1.3s\n",
            "[CV] alpha=0.01 ......................................................\n",
            "[CV] ....................................... alpha=0.01, total=   1.5s\n",
            "[CV] alpha=0.1 .......................................................\n",
            "[CV] ........................................ alpha=0.1, total=   1.3s\n",
            "[CV] alpha=0.1 .......................................................\n",
            "[CV] ........................................ alpha=0.1, total=   1.3s\n",
            "[CV] alpha=0.1 .......................................................\n",
            "[CV] ........................................ alpha=0.1, total=   1.3s\n",
            "[CV] alpha=0.1 .......................................................\n",
            "[CV] ........................................ alpha=0.1, total=   1.4s\n",
            "[CV] alpha=0.1 .......................................................\n",
            "[CV] ........................................ alpha=0.1, total=   1.4s\n",
            "[CV] alpha=1.0 .......................................................\n",
            "[CV] ........................................ alpha=1.0, total=   1.4s\n",
            "[CV] alpha=1.0 .......................................................\n",
            "[CV] ........................................ alpha=1.0, total=   1.3s\n",
            "[CV] alpha=1.0 .......................................................\n",
            "[CV] ........................................ alpha=1.0, total=   1.4s\n",
            "[CV] alpha=1.0 .......................................................\n",
            "[CV] ........................................ alpha=1.0, total=   1.4s\n",
            "[CV] alpha=1.0 .......................................................\n",
            "[CV] ........................................ alpha=1.0, total=   1.4s\n",
            "[CV] alpha=2.0 .......................................................\n",
            "[CV] ........................................ alpha=2.0, total=   1.4s\n",
            "[CV] alpha=2.0 .......................................................\n",
            "[CV] ........................................ alpha=2.0, total=   1.3s\n",
            "[CV] alpha=2.0 .......................................................\n",
            "[CV] ........................................ alpha=2.0, total=   1.3s\n",
            "[CV] alpha=2.0 .......................................................\n",
            "[CV] ........................................ alpha=2.0, total=   1.5s\n",
            "[CV] alpha=2.0 .......................................................\n",
            "[CV] ........................................ alpha=2.0, total=   1.3s\n",
            "[CV] alpha=4.0 .......................................................\n",
            "[CV] ........................................ alpha=4.0, total=   1.3s\n",
            "[CV] alpha=4.0 .......................................................\n",
            "[CV] ........................................ alpha=4.0, total=   1.3s\n",
            "[CV] alpha=4.0 .......................................................\n",
            "[CV] ........................................ alpha=4.0, total=   1.3s\n",
            "[CV] alpha=4.0 .......................................................\n",
            "[CV] ........................................ alpha=4.0, total=   1.2s\n",
            "[CV] alpha=4.0 .......................................................\n",
            "[CV] ........................................ alpha=4.0, total=   1.2s\n",
            "[CV] alpha=5.0 .......................................................\n",
            "[CV] ........................................ alpha=5.0, total=   1.4s\n",
            "[CV] alpha=5.0 .......................................................\n",
            "[CV] ........................................ alpha=5.0, total=   1.3s\n",
            "[CV] alpha=5.0 .......................................................\n",
            "[CV] ........................................ alpha=5.0, total=   1.2s\n",
            "[CV] alpha=5.0 .......................................................\n",
            "[CV] ........................................ alpha=5.0, total=   1.3s\n",
            "[CV] alpha=5.0 .......................................................\n",
            "[CV] ........................................ alpha=5.0, total=   1.3s\n",
            "[CV] alpha=6.0 .......................................................\n",
            "[CV] ........................................ alpha=6.0, total=   1.3s\n",
            "[CV] alpha=6.0 .......................................................\n",
            "[CV] ........................................ alpha=6.0, total=   1.3s\n",
            "[CV] alpha=6.0 .......................................................\n",
            "[CV] ........................................ alpha=6.0, total=   1.2s\n",
            "[CV] alpha=6.0 .......................................................\n",
            "[CV] ........................................ alpha=6.0, total=   1.3s\n",
            "[CV] alpha=6.0 .......................................................\n",
            "[CV] ........................................ alpha=6.0, total=   1.3s\n"
          ],
          "name": "stdout"
        },
        {
          "output_type": "stream",
          "text": [
            "[Parallel(n_jobs=1)]: Done  45 out of  45 | elapsed:  1.1min finished\n"
          ],
          "name": "stderr"
        },
        {
          "output_type": "stream",
          "text": [
            "CPU times: user 1min 10s, sys: 46 s, total: 1min 56s\n",
            "Wall time: 1min 5s\n"
          ],
          "name": "stdout"
        }
      ]
    },
    {
      "cell_type": "code",
      "metadata": {
        "id": "df4a98ce",
        "colab": {
          "base_uri": "https://localhost:8080/"
        },
        "outputId": "2e062564-3468-4a12-805f-735a8abcab04"
      },
      "source": [
        "model.best_estimator_"
      ],
      "id": "df4a98ce",
      "execution_count": 54,
      "outputs": [
        {
          "output_type": "execute_result",
          "data": {
            "text/plain": [
              "Ridge(alpha=0.001, copy_X=True, fit_intercept=True, max_iter=100,\n",
              "      normalize=False, random_state=1, solver='auto', tol=0.05)"
            ]
          },
          "metadata": {
            "tags": []
          },
          "execution_count": 54
        }
      ]
    },
    {
      "cell_type": "code",
      "metadata": {
        "id": "36265357",
        "colab": {
          "base_uri": "https://localhost:8080/"
        },
        "outputId": "5aad491c-366f-4f1d-c267-62b019f2f648"
      },
      "source": [
        "ridge_model = Ridge(alpha=0.001, copy_X=True, fit_intercept=True, max_iter=100,\n",
        "      normalize=False, random_state=1, solver='auto', tol=0.05)\n",
        "ridge_model.fit(train_s, Y_train)"
      ],
      "id": "36265357",
      "execution_count": 76,
      "outputs": [
        {
          "output_type": "execute_result",
          "data": {
            "text/plain": [
              "Ridge(alpha=0.001, copy_X=True, fit_intercept=True, max_iter=100,\n",
              "      normalize=False, random_state=1, solver='auto', tol=0.05)"
            ]
          },
          "metadata": {
            "tags": []
          },
          "execution_count": 76
        }
      ]
    },
    {
      "cell_type": "code",
      "metadata": {
        "id": "8672f027",
        "colab": {
          "base_uri": "https://localhost:8080/"
        },
        "outputId": "c1b9d4d4-0194-4d68-aee1-8330c3249d53"
      },
      "source": [
        "print('Train RMSLE = ',np.sqrt(mean_squared_error(Y_train,ridge_model.predict(train_s))))\n",
        "print('Test RMSLE = ',np.sqrt(mean_squared_error(Y_test,ridge_model.predict(test_s))))"
      ],
      "id": "8672f027",
      "execution_count": 77,
      "outputs": [
        {
          "output_type": "stream",
          "text": [
            "Train RMSLE =  0.5704125583955401\n",
            "Test RMSLE =  0.5721537838627493\n"
          ],
          "name": "stdout"
        }
      ]
    },
    {
      "cell_type": "markdown",
      "metadata": {
        "id": "8f7a0403"
      },
      "source": [
        "## RidgeCV"
      ],
      "id": "8f7a0403"
    },
    {
      "cell_type": "code",
      "metadata": {
        "id": "97d83492",
        "colab": {
          "base_uri": "https://localhost:8080/"
        },
        "outputId": "b41e43bc-72f6-48a1-f2a8-54ad2553dc3b"
      },
      "source": [
        "from sklearn.linear_model import RidgeCV\n",
        "ridgecv_model = RidgeCV(\n",
        "    fit_intercept=True, alphas=[6.0],\n",
        "    normalize=False, cv = 2, scoring='neg_mean_squared_error',\n",
        ")\n",
        "ridgecv_model.fit(train_s, Y_train)"
      ],
      "id": "97d83492",
      "execution_count": 78,
      "outputs": [
        {
          "output_type": "execute_result",
          "data": {
            "text/plain": [
              "RidgeCV(alphas=array([6.]), cv=2, fit_intercept=True, gcv_mode=None,\n",
              "        normalize=False, scoring='neg_mean_squared_error',\n",
              "        store_cv_values=False)"
            ]
          },
          "metadata": {
            "tags": []
          },
          "execution_count": 78
        }
      ]
    },
    {
      "cell_type": "code",
      "metadata": {
        "id": "17c7813f",
        "colab": {
          "base_uri": "https://localhost:8080/"
        },
        "outputId": "0697f112-8c58-44d7-800e-91c28517014b"
      },
      "source": [
        "print('Train RMSLE = ',np.sqrt(mean_squared_error(Y_train,ridgecv_model.predict(train_s))))\n",
        "print('Test RMSLE = ',np.sqrt(mean_squared_error(Y_test,ridgecv_model.predict(test_s))))"
      ],
      "id": "17c7813f",
      "execution_count": 79,
      "outputs": [
        {
          "output_type": "stream",
          "text": [
            "Train RMSLE =  0.4862664117503523\n",
            "Test RMSLE =  0.5173075316849575\n"
          ],
          "name": "stdout"
        }
      ]
    },
    {
      "cell_type": "markdown",
      "metadata": {
        "id": "6c8e8d9f"
      },
      "source": [
        "## Ensemble"
      ],
      "id": "6c8e8d9f"
    },
    {
      "cell_type": "code",
      "metadata": {
        "id": "69d47b4d"
      },
      "source": [
        "ridgecv_predict = np.expm1(ridgecv_model.predict(test_final_s))\n",
        "lgbm_predict = np.expm1(lgbm_model.predict(test_final_s))"
      ],
      "id": "69d47b4d",
      "execution_count": 80,
      "outputs": []
    },
    {
      "cell_type": "code",
      "metadata": {
        "id": "b5f87618"
      },
      "source": [
        "y_test_pred_ridgecv=ridgecv_model.predict(train_s)\n",
        "y_test_pred_lgbm=lgbm_model.predict(train_s)"
      ],
      "id": "b5f87618",
      "execution_count": 89,
      "outputs": []
    },
    {
      "cell_type": "code",
      "metadata": {
        "id": "5aa09448"
      },
      "source": [
        "weights = list(np.linspace(0.1,1,25))\n",
        "scores = []"
      ],
      "id": "5aa09448",
      "execution_count": 94,
      "outputs": []
    },
    {
      "cell_type": "code",
      "metadata": {
        "id": "21ceab06",
        "colab": {
          "base_uri": "https://localhost:8080/"
        },
        "outputId": "c2bc0a0c-0928-4ef7-c42b-25ff21dfc7c4"
      },
      "source": [
        "from tqdm import tqdm\n",
        "for w in tqdm(weights):\n",
        "    pred= (w*y_test_pred_ridgecv) + (1-w)*(y_test_pred_lgbm)\n",
        "    scores.append(rmsle(Y_train,pred))"
      ],
      "id": "21ceab06",
      "execution_count": 95,
      "outputs": [
        {
          "output_type": "stream",
          "text": [
            "100%|██████████| 25/25 [00:02<00:00, 10.20it/s]\n"
          ],
          "name": "stderr"
        }
      ]
    },
    {
      "cell_type": "code",
      "metadata": {
        "id": "ee3e2c90",
        "colab": {
          "base_uri": "https://localhost:8080/",
          "height": 295
        },
        "outputId": "808b352f-3fca-4b0c-bb24-4bc2ce6c8caa"
      },
      "source": [
        "import matplotlib.pyplot as plt\n",
        "plt.plot(weights, scores)\n",
        "plt.scatter(weights, scores)\n",
        "plt.xlabel(\"Weights Ratio\")\n",
        "plt.ylabel(\"RMSLE\")\n",
        "plt.title(\"Weight Selection for Ensemble\")\n",
        "plt.grid()\n",
        "plt.show()"
      ],
      "id": "ee3e2c90",
      "execution_count": 96,
      "outputs": [
        {
          "output_type": "display_data",
          "data": {
            "image/png": "[encoded data removed]",
            "text/plain": [
              "<Figure size 432x288 with 1 Axes>"
            ]
          },
          "metadata": {
            "tags": [],
            "needs_background": "light"
          }
        }
      ]
    },
    {
      "cell_type": "code",
      "metadata": {
        "id": "0b2aea4b",
        "colab": {
          "base_uri": "https://localhost:8080/",
          "height": 205
        },
        "outputId": "48e366d9-c137-44a1-e4ea-5892c0ad1f05"
      },
      "source": [
        "df = pd.DataFrame({'weights' : weights,'scores':scores})\n",
        "df.head(5)"
      ],
      "id": "0b2aea4b",
      "execution_count": 97,
      "outputs": [
        {
          "output_type": "execute_result",
          "data": {
            "text/html": [
              "<div>\n",
              "<style scoped>\n",
              "    .dataframe tbody tr th:only-of-type {\n",
              "        vertical-align: middle;\n",
              "    }\n",
              "\n",
              "    .dataframe tbody tr th {\n",
              "        vertical-align: top;\n",
              "    }\n",
              "\n",
              "    .dataframe thead th {\n",
              "        text-align: right;\n",
              "    }\n",
              "</style>\n",
              "<table border=\"1\" class=\"dataframe\">\n",
              "  <thead>\n",
              "    <tr style=\"text-align: right;\">\n",
              "      <th></th>\n",
              "      <th>weights</th>\n",
              "      <th>scores</th>\n",
              "    </tr>\n",
              "  </thead>\n",
              "  <tbody>\n",
              "    <tr>\n",
              "      <th>0</th>\n",
              "      <td>0.1000</td>\n",
              "      <td>0.510827</td>\n",
              "    </tr>\n",
              "    <tr>\n",
              "      <th>1</th>\n",
              "      <td>0.1375</td>\n",
              "      <td>0.508132</td>\n",
              "    </tr>\n",
              "    <tr>\n",
              "      <th>2</th>\n",
              "      <td>0.1750</td>\n",
              "      <td>0.505572</td>\n",
              "    </tr>\n",
              "    <tr>\n",
              "      <th>3</th>\n",
              "      <td>0.2125</td>\n",
              "      <td>0.503148</td>\n",
              "    </tr>\n",
              "    <tr>\n",
              "      <th>4</th>\n",
              "      <td>0.2500</td>\n",
              "      <td>0.500861</td>\n",
              "    </tr>\n",
              "  </tbody>\n",
              "</table>\n",
              "</div>"
            ],
            "text/plain": [
              "   weights    scores\n",
              "0   0.1000  0.510827\n",
              "1   0.1375  0.508132\n",
              "2   0.1750  0.505572\n",
              "3   0.2125  0.503148\n",
              "4   0.2500  0.500861"
            ]
          },
          "metadata": {
            "tags": []
          },
          "execution_count": 97
        }
      ]
    },
    {
      "cell_type": "code",
      "metadata": {
        "id": "188781c3",
        "colab": {
          "base_uri": "https://localhost:8080/"
        },
        "outputId": "35715a66-0cfa-427a-eefd-bc8c8516c272"
      },
      "source": [
        "w = df.weights[df.scores == min(df.scores)].values[0]\n",
        "print(w)"
      ],
      "id": "188781c3",
      "execution_count": 98,
      "outputs": [
        {
          "output_type": "stream",
          "text": [
            "0.8125\n"
          ],
          "name": "stdout"
        }
      ]
    },
    {
      "cell_type": "code",
      "metadata": {
        "id": "b8bbcfdb"
      },
      "source": [
        "final_pred= ((w*ridgecv_predict) + ((1-w)*lgbm_predict))"
      ],
      "id": "b8bbcfdb",
      "execution_count": 99,
      "outputs": []
    },
    {
      "cell_type": "code",
      "metadata": {
        "id": "826c9b7e"
      },
      "source": [
        "test_id=test_final['test_id']"
      ],
      "id": "826c9b7e",
      "execution_count": 100,
      "outputs": []
    },
    {
      "cell_type": "code",
      "metadata": {
        "id": "a03bb12c"
      },
      "source": [
        "final_submission=pd.DataFrame({'test_id':test_id,'price':final_pred})"
      ],
      "id": "a03bb12c",
      "execution_count": 101,
      "outputs": []
    },
    {
      "cell_type": "code",
      "metadata": {
        "id": "9b6860a3"
      },
      "source": [
        "final_submission.to_csv('submission_ensemble_2.csv',index=False)"
      ],
      "id": "9b6860a3",
      "execution_count": 102,
      "outputs": []
    },
    {
      "cell_type": "code",
      "metadata": {
        "id": "444c9638"
      },
      "source": [
        ""
      ],
      "id": "444c9638",
      "execution_count": null,
      "outputs": []
    }
  ]
}